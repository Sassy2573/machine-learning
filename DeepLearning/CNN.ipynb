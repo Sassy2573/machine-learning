{
 "cells": [
  {
   "cell_type": "code",
   "execution_count": 1,
   "id": "621f1490",
   "metadata": {},
   "outputs": [],
   "source": [
    "# ✅ 环境准备\n",
    "import torch\n",
    "import torch.nn as nn\n",
    "import torch.optim as optim\n",
    "import torchvision.transforms as transforms\n",
    "import torchvision.datasets as datasets\n",
    "from torch.utils.data import DataLoader\n",
    "from torchvision import models\n",
    "import matplotlib.pyplot as plt\n",
    "import os\n",
    "\n",
    "device = torch.device(\"cuda\" if torch.cuda.is_available() else \"cpu\")"
   ]
  },
  {
   "cell_type": "code",
   "execution_count": 2,
   "id": "5a5cc4a6",
   "metadata": {},
   "outputs": [],
   "source": [
    "# ✅ 数据预处理\n",
    "# 📚需额外学习：transforms 中的数据增强技巧，x如 RandomResizedCrop、ColorJitter\n",
    "transform = transforms.Compose([\n",
    "    transforms.Resize((128, 128)),\n",
    "    transforms.RandomHorizontalFlip(),\n",
    "    transforms.ToTensor(),\n",
    "])\n",
    "\n",
    "train_path = \"../../Data/food-11/training/labeled\"\n",
    "val_path = \"../../Data/food-11/validation\"\n",
    "\n",
    "train_dataset = datasets.ImageFolder(train_path, transform=transform)\n",
    "val_dataset = datasets.ImageFolder(val_path, transform=transform)\n",
    "\n",
    "train_loader = DataLoader(train_dataset, batch_size=32, shuffle=True)\n",
    "val_loader = DataLoader(val_dataset, batch_size=32, shuffle=False)"
   ]
  },
  {
   "cell_type": "code",
   "execution_count": 3,
   "id": "bf83c0e5",
   "metadata": {},
   "outputs": [],
   "source": [
    "# ✅ 构建 CNN 模型\n",
    "# 📚需额外学习：nn.Sequential 与手动搭建模型结构的差异\n",
    "# 📚需额外学习：Dropout 与 BatchNorm 的作用\n",
    "class CNN(nn.Module):\n",
    "    def __init__(self, num_classes=11):\n",
    "        super(CNN, self).__init__()\n",
    "        self.features = nn.Sequential(\n",
    "            nn.Conv2d(3, 32, kernel_size=3, padding=1),\n",
    "            nn.BatchNorm2d(32),\n",
    "            nn.ReLU(),\n",
    "            nn.MaxPool2d(2),\n",
    "\n",
    "            nn.Conv2d(32, 64, kernel_size=3, padding=1),\n",
    "            nn.BatchNorm2d(64),\n",
    "            nn.ReLU(),\n",
    "            nn.MaxPool2d(2),\n",
    "        )\n",
    "        self.classifier = nn.Sequential(\n",
    "            nn.Flatten(),\n",
    "            nn.Linear(64*32*32, 256),\n",
    "            nn.ReLU(),\n",
    "            nn.Dropout(0.5),\n",
    "            nn.Linear(256, num_classes)\n",
    "        )\n",
    "\n",
    "    def forward(self, x):\n",
    "        x = self.features(x)\n",
    "        x = self.classifier(x)\n",
    "        return x\n",
    "\n",
    "model = CNN().to(device)"
   ]
  },
  {
   "cell_type": "code",
   "execution_count": 4,
   "id": "10ca601b",
   "metadata": {},
   "outputs": [],
   "source": [
    "# ✅ 设置损失函数与优化器\n",
    "# 📚需额外学习：FocalLoss 用于处理类别不均衡（高级内容）\n",
    "criterion = nn.CrossEntropyLoss()\n",
    "optimizer = optim.Adam(model.parameters(), lr=0.001)\n",
    "\n"
   ]
  },
  {
   "cell_type": "code",
   "execution_count": 5,
   "id": "90323062",
   "metadata": {},
   "outputs": [],
   "source": [
    "# 📚需额外学习：学习率调度器（CosineAnnealingLR、StepLR等）\n",
    "scheduler = optim.lr_scheduler.StepLR(optimizer, step_size=5, gamma=0.5)"
   ]
  },
  {
   "cell_type": "code",
   "execution_count": 6,
   "id": "c4933256",
   "metadata": {},
   "outputs": [],
   "source": [
    "# ✅ 训练与验证循环（核心逻辑）\n",
    "def train(model, loader):\n",
    "    model.train()\n",
    "    total_loss, correct = 0, 0\n",
    "    for x, y in loader:\n",
    "        x, y = x.to(device), y.to(device)\n",
    "        pred = model(x)\n",
    "        loss = criterion(pred, y)\n",
    "\n",
    "        optimizer.zero_grad()\n",
    "        loss.backward()\n",
    "        optimizer.step()\n",
    "\n",
    "        total_loss += loss.item() * x.size(0)\n",
    "        correct += (pred.argmax(1) == y).sum().item()\n",
    "    return total_loss / len(loader.dataset), correct / len(loader.dataset)"
   ]
  },
  {
   "cell_type": "code",
   "execution_count": null,
   "id": "57311cda",
   "metadata": {},
   "outputs": [],
   "source": []
  },
  {
   "cell_type": "code",
   "execution_count": 7,
   "id": "96cbc31e",
   "metadata": {},
   "outputs": [],
   "source": [
    "def validate(model, loader):\n",
    "    model.eval()\n",
    "    total_loss, correct = 0, 0\n",
    "    with torch.no_grad():\n",
    "        for x, y in loader:\n",
    "            x, y = x.to(device), y.to(device)\n",
    "            pred = model(x)\n",
    "            loss = criterion(pred, y)\n",
    "            total_loss += loss.item() * x.size(0)\n",
    "            correct += (pred.argmax(1) == y).sum().item()\n",
    "    return total_loss / len(loader.dataset), correct / len(loader.dataset)"
   ]
  },
  {
   "cell_type": "code",
   "execution_count": 8,
   "id": "f877d354",
   "metadata": {},
   "outputs": [
    {
     "name": "stdout",
     "output_type": "stream",
     "text": [
      "Epoch 1: Train Acc=0.0938, Val Acc=0.0909\n",
      "Epoch 2: Train Acc=0.0854, Val Acc=0.1121\n",
      "Epoch 3: Train Acc=0.0903, Val Acc=0.1030\n",
      "Epoch 4: Train Acc=0.0844, Val Acc=0.0909\n",
      "Epoch 5: Train Acc=0.0877, Val Acc=0.0909\n",
      "Epoch 6: Train Acc=0.0909, Val Acc=0.0909\n",
      "Epoch 7: Train Acc=0.0906, Val Acc=0.0909\n",
      "Epoch 8: Train Acc=0.0909, Val Acc=0.0909\n",
      "Epoch 9: Train Acc=0.0864, Val Acc=0.0909\n",
      "Epoch 10: Train Acc=0.0838, Val Acc=0.0909\n",
      "Epoch 11: Train Acc=0.0912, Val Acc=0.0909\n",
      "Epoch 12: Train Acc=0.0847, Val Acc=0.0909\n",
      "Epoch 13: Train Acc=0.0909, Val Acc=0.0909\n",
      "Epoch 14: Train Acc=0.0909, Val Acc=0.0909\n",
      "Epoch 15: Train Acc=0.0909, Val Acc=0.0909\n",
      "Epoch 16: Train Acc=0.0909, Val Acc=0.0909\n",
      "Epoch 17: Train Acc=0.0909, Val Acc=0.0909\n",
      "Epoch 18: Train Acc=0.0909, Val Acc=0.0909\n",
      "Epoch 19: Train Acc=0.0912, Val Acc=0.0909\n",
      "Epoch 20: Train Acc=0.0909, Val Acc=0.0909\n",
      "Epoch 21: Train Acc=0.0909, Val Acc=0.0909\n",
      "Epoch 22: Train Acc=0.0909, Val Acc=0.0909\n",
      "Epoch 23: Train Acc=0.0912, Val Acc=0.0909\n",
      "Epoch 24: Train Acc=0.0912, Val Acc=0.0909\n",
      "Epoch 25: Train Acc=0.0909, Val Acc=0.0909\n",
      "Epoch 26: Train Acc=0.0912, Val Acc=0.0909\n",
      "Epoch 27: Train Acc=0.0909, Val Acc=0.0909\n",
      "Epoch 28: Train Acc=0.0912, Val Acc=0.0909\n",
      "Epoch 29: Train Acc=0.0909, Val Acc=0.0909\n",
      "Epoch 30: Train Acc=0.0909, Val Acc=0.0909\n",
      "Epoch 31: Train Acc=0.0909, Val Acc=0.0909\n",
      "Epoch 32: Train Acc=0.0909, Val Acc=0.0909\n",
      "Epoch 33: Train Acc=0.0909, Val Acc=0.0909\n",
      "Epoch 34: Train Acc=0.0912, Val Acc=0.0909\n",
      "Epoch 35: Train Acc=0.0909, Val Acc=0.0909\n",
      "Epoch 36: Train Acc=0.0909, Val Acc=0.0909\n",
      "Epoch 37: Train Acc=0.0909, Val Acc=0.0909\n",
      "Epoch 38: Train Acc=0.0912, Val Acc=0.0909\n",
      "Epoch 39: Train Acc=0.0912, Val Acc=0.0909\n",
      "Epoch 40: Train Acc=0.0909, Val Acc=0.0909\n",
      "Epoch 41: Train Acc=0.0909, Val Acc=0.0909\n",
      "Epoch 42: Train Acc=0.0909, Val Acc=0.0909\n",
      "Epoch 43: Train Acc=0.0912, Val Acc=0.0909\n",
      "Epoch 44: Train Acc=0.0909, Val Acc=0.0909\n",
      "Epoch 45: Train Acc=0.0909, Val Acc=0.0909\n",
      "Epoch 46: Train Acc=0.0909, Val Acc=0.0909\n",
      "Epoch 47: Train Acc=0.0909, Val Acc=0.0909\n",
      "Epoch 48: Train Acc=0.0909, Val Acc=0.0909\n",
      "Epoch 49: Train Acc=0.0909, Val Acc=0.0909\n",
      "Epoch 50: Train Acc=0.0909, Val Acc=0.0909\n"
     ]
    }
   ],
   "source": [
    "for epoch in range(50):\n",
    "    train_loss, train_acc = train(model, train_loader)\n",
    "    val_loss, val_acc = validate(model, val_loader)\n",
    "    scheduler.step()\n",
    "    print(f\"Epoch {epoch+1}: Train Acc={train_acc:.4f}, Val Acc={val_acc:.4f}\")"
   ]
  },
  {
   "cell_type": "code",
   "execution_count": null,
   "id": "6bdc909a",
   "metadata": {},
   "outputs": [],
   "source": []
  }
 ],
 "metadata": {
  "kernelspec": {
   "display_name": "pytorch_env",
   "language": "python",
   "name": "python3"
  },
  "language_info": {
   "codemirror_mode": {
    "name": "ipython",
    "version": 3
   },
   "file_extension": ".py",
   "mimetype": "text/x-python",
   "name": "python",
   "nbconvert_exporter": "python",
   "pygments_lexer": "ipython3",
   "version": "3.9.21"
  }
 },
 "nbformat": 4,
 "nbformat_minor": 5
}
