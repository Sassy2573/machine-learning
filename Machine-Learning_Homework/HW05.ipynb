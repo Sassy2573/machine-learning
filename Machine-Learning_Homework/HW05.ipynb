{
 "cells": [
  {
   "cell_type": "markdown",
   "id": "b99fe977",
   "metadata": {},
   "source": [
    "# Homework 5 - Sequence-to-sequence"
   ]
  },
  {
   "cell_type": "markdown",
   "id": "e1f47dd8",
   "metadata": {},
   "source": []
  }
 ],
 "metadata": {
  "kernelspec": {
   "display_name": "pytorch_gpu",
   "language": "python",
   "name": "python3"
  },
  "language_info": {
   "codemirror_mode": {
    "name": "ipython",
    "version": 3
   },
   "file_extension": ".py",
   "mimetype": "text/x-python",
   "name": "python",
   "nbconvert_exporter": "python",
   "pygments_lexer": "ipython3",
   "version": "3.10.16"
  }
 },
 "nbformat": 4,
 "nbformat_minor": 5
}
