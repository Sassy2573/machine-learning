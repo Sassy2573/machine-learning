{
 "cells": [
  {
   "cell_type": "code",
   "execution_count": 1,
   "id": "0bf346bb",
   "metadata": {},
   "outputs": [
    {
     "name": "stdout",
     "output_type": "stream",
     "text": [
      "Total params: 552\n"
     ]
    }
   ],
   "source": [
    "import torch.nn as nn\n",
    "\n",
    "input_dim = 8\n",
    "hidden_dim = 16\n",
    "hidden_layers = 2\n",
    "output_dim = 8\n",
    "\n",
    "# 为了简洁，舍去了 Relu()\n",
    "network = nn.Sequential(\n",
    "            nn.Linear(input_dim, hidden_dim),\n",
    "            # 在函数的调用中，一个 * 表示将一个序列展开为单独的位置参数，这一行代码是列表推导，最终的表现是重复生成多个 hidden layer\n",
    "            *[nn.Linear(hidden_dim, hidden_dim) for _ in range(hidden_layers-1)], \n",
    "            nn.Linear(hidden_dim, output_dim)\n",
    "        )\n",
    "# 打印总参数量\n",
    "total_params = (\n",
    "    (input_dim+1) * hidden_dim +\n",
    "    (hidden_dim + 1) * hidden_dim * (hidden_layers - 1) +\n",
    "    (hidden_dim + 1) * output_dim\n",
    ")\n",
    "print(f'Total params: {total_params}')"
   ]
  },
  {
   "cell_type": "code",
   "execution_count": null,
   "id": "b2295dfb",
   "metadata": {},
   "outputs": [],
   "source": []
  }
 ],
 "metadata": {
  "kernelspec": {
   "display_name": "pytorch_gpu",
   "language": "python",
   "name": "python3"
  },
  "language_info": {
   "codemirror_mode": {
    "name": "ipython",
    "version": 3
   },
   "file_extension": ".py",
   "mimetype": "text/x-python",
   "name": "python",
   "nbconvert_exporter": "python",
   "pygments_lexer": "ipython3",
   "version": "3.10.16"
  }
 },
 "nbformat": 4,
 "nbformat_minor": 5
}
