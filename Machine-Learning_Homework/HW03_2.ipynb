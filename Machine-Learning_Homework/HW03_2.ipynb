{
 "cells": [
  {
   "cell_type": "markdown",
   "id": "10fa19f7",
   "metadata": {},
   "source": [
    "## 任务1：构建一个简单CNN模型，训练有标签数据"
   ]
  },
  {
   "cell_type": "code",
   "execution_count": 3,
   "id": "5e1165c3",
   "metadata": {},
   "outputs": [],
   "source": [
    "import os\n",
    "import torch\n",
    "import torch.nn as nn\n",
    "import torch.optim as optim\n",
    "from torchvision import transforms, datasets\n",
    "from torch.utils.data import DataLoader\n",
    "from PIL import Image\n",
    "import numpy as np\n",
    "\n",
    "device = \"cuda\" if torch.cuda.is_available() else \"cpu\""
   ]
  },
  {
   "cell_type": "code",
   "execution_count": 4,
   "id": "a7614390",
   "metadata": {},
   "outputs": [],
   "source": [
    "# 定义一个函数，用于设置随机种子\n",
    "def set_seed(seed):\n",
    "    # 设置PyTorch的随机种子\n",
    "    torch.manual_seed(seed)\n",
    "    # 设置NumPy的随机种子\n",
    "    np.random.seed(seed)\n",
    "    # 如果设备是CUDA，则设置所有CUDA设备的随机种子\n",
    "    if device == \"cuda\":\n",
    "        torch.cuda.manual_seed_all(seed)\n",
    "\n",
    "set_seed(42)\n",
    "    "
   ]
  },
  {
   "cell_type": "code",
   "execution_count": 5,
   "id": "40d87ddd",
   "metadata": {},
   "outputs": [],
   "source": [
    "# 图像预处理\n",
    "\n",
    "train_transform = transforms.Compose([\n",
    "    transforms.Resize((128, 128)),\n",
    "    transforms.ToTensor(),\n",
    "    transforms.Normalize((0.5, ),(0.5, ))\n",
    "])\n",
    "\n",
    "test_transform = transforms.Compose([\n",
    "    transforms.Resize((128, 128)),\n",
    "    transforms.ToTensor(),\n",
    "    transforms.Normalize((0.5, ),(0.5, ))\n",
    "])\n"
   ]
  },
  {
   "cell_type": "code",
   "execution_count": 6,
   "id": "8d905c78",
   "metadata": {},
   "outputs": [],
   "source": [
    "# 数据加载\n",
    "\n",
    "train_dir = \"F:/Ai/Data/food-11/training/labeled\"\n",
    "val_dir = \"F:/Ai/Data/food-11/validation\""
   ]
  },
  {
   "cell_type": "code",
   "execution_count": 7,
   "id": "b2f0d8d7",
   "metadata": {},
   "outputs": [],
   "source": [
    "train_set = datasets.ImageFolder(train_dir, transform=train_transform)\n",
    "val_set = datasets.ImageFolder(val_dir, transform=test_transform)\n",
    "\n",
    "trian_loader = DataLoader(train_set, batch_size=256, shuffle=True)\n",
    "val_loader = DataLoader(val_set, batch_size=256, shuffle=False)"
   ]
  },
  {
   "cell_type": "code",
   "execution_count": 6,
   "id": "9f54ecad",
   "metadata": {},
   "outputs": [
    {
     "data": {
      "text/plain": [
       "Dataset ImageFolder\n",
       "    Number of datapoints: 3080\n",
       "    Root location: F:/Ai/Data/food-11/training/labeled\n",
       "    StandardTransform\n",
       "Transform: Compose(\n",
       "               Resize(size=(128, 128), interpolation=bilinear, max_size=None, antialias=True)\n",
       "               ToTensor()\n",
       "               Normalize(mean=(0.5,), std=(0.5,))\n",
       "           )"
      ]
     },
     "execution_count": 6,
     "metadata": {},
     "output_type": "execute_result"
    }
   ],
   "source": [
    "train_set"
   ]
  },
  {
   "cell_type": "code",
   "execution_count": 7,
   "id": "a2c32af8",
   "metadata": {},
   "outputs": [],
   "source": [
    "# 简单CNN网络\n",
    "\n",
    "class simpleCNN(nn.Module):\n",
    "    def __init__(self):\n",
    "        super().__init__()\n",
    "        self.cnn = nn.Sequential(\n",
    "            nn.Conv2d(3, 32, 3, padding=1),\n",
    "            nn.ReLU(),\n",
    "            nn.MaxPool2d(2),\n",
    "\n",
    "            nn.Conv2d(32, 64, 3, padding=1),\n",
    "            nn.ReLU(),\n",
    "            nn.MaxPool2d(2),\n",
    "\n",
    "            nn.Conv2d(64, 128, 3, padding=1),\n",
    "            nn.ReLU(),\n",
    "            nn.MaxPool2d(2),\n",
    "        )\n",
    "\n",
    "        self.fc = nn.Sequential(\n",
    "            nn.Flatten(),\n",
    "            nn.Linear(128 * 16 * 16, 256),\n",
    "            nn.ReLU(),\n",
    "            nn.Linear(256, 11)\n",
    "        )\n",
    "\n",
    "    def forward(self, x):\n",
    "        return self.fc(self.cnn(x))\n"
   ]
  },
  {
   "cell_type": "code",
   "execution_count": 8,
   "id": "f7ece736",
   "metadata": {},
   "outputs": [],
   "source": [
    "model = simpleCNN().to(device)\n",
    "loss_fn = nn.CrossEntropyLoss()\n",
    "optimizer = optim.Adam(model.parameters(), lr=1e-3)"
   ]
  },
  {
   "cell_type": "code",
   "execution_count": 9,
   "id": "3e2a9e84",
   "metadata": {},
   "outputs": [],
   "source": [
    "# 验证函数\n",
    "def validate():\n",
    "    model.eval()\n",
    "    correct = 0\n",
    "    with torch.no_grad():\n",
    "        for imgs, labels in val_loader:\n",
    "            imgs, labels = imgs.to(device), labels.to(device)\n",
    "            preds = model(imgs)\n",
    "            correct += (preds.argmax(1) == labels).sum().item()\n",
    "    acc = correct / len(val_set)\n",
    "    print(f\"[EASY][Validation] Acc: {acc:.4f}\")"
   ]
  },
  {
   "cell_type": "code",
   "execution_count": 10,
   "id": "54bc1fa8",
   "metadata": {},
   "outputs": [],
   "source": [
    "# 训练函数\n",
    "\n",
    "def train(epochs = 10):\n",
    "    for epoch in range(epochs):\n",
    "        model.train()\n",
    "        total_loss, correct = 0, 0\n",
    "\n",
    "        for imgs, labels in trian_loader:\n",
    "            imgs, labels = imgs.to(device), labels.to(device)\n",
    "            optimizer.zero_grad()\n",
    "            outputs = model(imgs)\n",
    "            loss = loss_fn(outputs, labels)\n",
    "            loss.backward()\n",
    "            optimizer.step()\n",
    "\n",
    "            total_loss += loss.item()\n",
    "            correct += (outputs.argmax(1) == labels).sum().item()\n",
    "        \n",
    "        acc = correct / len(train_set)\n",
    "\n",
    "        print(f\"[EASY][Epoch {epoch+1}] Loss: {total_loss:.3f}, Train Acc: {acc:.4f}\")\n",
    "        validate()\n",
    "\n"
   ]
  },
  {
   "cell_type": "code",
   "execution_count": null,
   "id": "cac5f61b",
   "metadata": {},
   "outputs": [
    {
     "name": "stdout",
     "output_type": "stream",
     "text": [
      "[EASY][Epoch 1] Loss: 0.559, Train Acc: 0.9971\n",
      "[EASY][Validation] Acc: 0.3727\n",
      "[EASY][Epoch 2] Loss: 0.824, Train Acc: 0.9854\n",
      "[EASY][Validation] Acc: 0.3636\n",
      "[EASY][Epoch 3] Loss: 0.604, Train Acc: 0.9955\n",
      "[EASY][Validation] Acc: 0.3182\n",
      "[EASY][Epoch 4] Loss: 3.268, Train Acc: 0.9331\n",
      "[EASY][Validation] Acc: 0.2894\n",
      "[EASY][Epoch 5] Loss: 2.038, Train Acc: 0.9503\n",
      "[EASY][Validation] Acc: 0.3424\n",
      "[EASY][Epoch 6] Loss: 0.943, Train Acc: 0.9825\n",
      "[EASY][Validation] Acc: 0.3364\n",
      "[EASY][Epoch 7] Loss: 0.319, Train Acc: 0.9987\n",
      "[EASY][Validation] Acc: 0.3561\n",
      "[EASY][Epoch 8] Loss: 0.147, Train Acc: 0.9994\n",
      "[EASY][Validation] Acc: 0.3409\n",
      "[EASY][Epoch 9] Loss: 0.077, Train Acc: 1.0000\n",
      "[EASY][Validation] Acc: 0.3636\n",
      "[EASY][Epoch 10] Loss: 0.045, Train Acc: 1.0000\n",
      "[EASY][Validation] Acc: 0.3621\n",
      "CPU times: total: 2min 38s\n",
      "Wall time: 2min 29s\n"
     ]
    }
   ],
   "source": [
    "%time train(epochs=10)"
   ]
  },
  {
   "cell_type": "markdown",
   "id": "4605ffc2",
   "metadata": {},
   "source": [
    "## 任务二：使用不同模型架构或数据增强的带标签图像来提升性能"
   ]
  },
  {
   "cell_type": "code",
   "execution_count": 17,
   "id": "4ce1d3d6",
   "metadata": {},
   "outputs": [],
   "source": [
    "# 改进网络结构\n",
    "class BetterCNN(nn.Module):\n",
    "    def __init__(self):\n",
    "        super().__init__()\n",
    "        self.cnn = nn.Sequential(\n",
    "            nn.Conv2d(3, 32, 3, padding=1),\n",
    "            nn.BatchNorm2d(32),\n",
    "            nn.ReLU(),\n",
    "            nn.MaxPool2d(2),\n",
    "\n",
    "            nn.Conv2d(32, 64, 3, padding=1),\n",
    "            nn.BatchNorm2d(64),\n",
    "            nn.ReLU(),\n",
    "            nn.MaxPool2d(2),\n",
    "\n",
    "            nn.Conv2d(64, 128, 3, padding=1),\n",
    "            nn.BatchNorm2d(128),\n",
    "            nn.ReLU(),\n",
    "            nn.MaxPool2d(2),\n",
    "\n",
    "        )\n",
    "\n",
    "        self.fc = nn.Sequential(\n",
    "            nn.Flatten(),\n",
    "            nn.Linear(128 * 16 * 16, 256),\n",
    "            nn.ReLU(),\n",
    "            nn.Linear(256, 11)\n",
    "        )\n",
    "\n",
    "    def forward(self, x):\n",
    "        x = self.cnn(x)\n",
    "        x = self.fc(x)\n",
    "        return x"
   ]
  },
  {
   "cell_type": "code",
   "execution_count": 18,
   "id": "ae615541",
   "metadata": {},
   "outputs": [],
   "source": [
    "model = BetterCNN().to(device)\n",
    "loss_fn = nn.CrossEntropyLoss()\n",
    "optimizer = optim.Adam(model.parameters(), lr=1e-3)"
   ]
  },
  {
   "cell_type": "code",
   "execution_count": null,
   "id": "885b5763",
   "metadata": {},
   "outputs": [
    {
     "name": "stdout",
     "output_type": "stream",
     "text": [
      "[EASY][Epoch 1] Loss: 156.184, Train Acc: 0.1055\n",
      "[EASY][Validation] Acc: 0.1348\n",
      "[EASY][Epoch 2] Loss: 50.802, Train Acc: 0.1302\n",
      "[EASY][Validation] Acc: 0.1424\n",
      "[EASY][Epoch 3] Loss: 30.659, Train Acc: 0.1484\n",
      "[EASY][Validation] Acc: 0.1273\n",
      "[EASY][Epoch 4] Loss: 30.040, Train Acc: 0.1506\n",
      "[EASY][Validation] Acc: 0.1288\n",
      "[EASY][Epoch 5] Loss: 30.242, Train Acc: 0.1627\n",
      "[EASY][Validation] Acc: 0.1788\n",
      "[EASY][Epoch 6] Loss: 29.349, Train Acc: 0.1860\n",
      "[EASY][Validation] Acc: 0.1773\n",
      "[EASY][Epoch 7] Loss: 28.797, Train Acc: 0.2195\n",
      "[EASY][Validation] Acc: 0.1909\n",
      "[EASY][Epoch 8] Loss: 27.708, Train Acc: 0.2542\n",
      "[EASY][Validation] Acc: 0.2015\n",
      "[EASY][Epoch 9] Loss: 27.618, Train Acc: 0.2542\n",
      "[EASY][Validation] Acc: 0.2394\n",
      "[EASY][Epoch 10] Loss: 27.061, Train Acc: 0.2896\n",
      "[EASY][Validation] Acc: 0.2439\n",
      "CPU times: total: 2min 41s\n",
      "Wall time: 2min 32s\n"
     ]
    }
   ],
   "source": [
    "%time train(epochs=10)"
   ]
  },
  {
   "cell_type": "code",
   "execution_count": 8,
   "id": "3eb3bb09",
   "metadata": {},
   "outputs": [],
   "source": [
    "class Food11VGG(nn.Module):\n",
    "    def __init__(self, num_classes = 11):\n",
    "        super(Food11VGG, self).__init__()\n",
    "\n",
    "        self.features = nn.Sequential(\n",
    "            nn.Conv2d(3, 64, kernel_size=3, padding=1),\n",
    "            nn.BatchNorm2d(64),\n",
    "            nn.ReLU(inplace=True),\n",
    "            nn.Conv2d(64, 64, kernel_size=3, padding=1),\n",
    "            nn.BatchNorm2d(64),\n",
    "            nn.ReLU(inplace=True),\n",
    "            nn.MaxPool2d(kernel_size=2, stride=2),\n",
    "\n",
    "            nn.Conv2d(64, 128, kernel_size=3, padding=1),\n",
    "            nn.BatchNorm2d(128),\n",
    "            nn.ReLU(inplace=True),\n",
    "            nn.Conv2d(128, 128, kernel_size=3, padding=1),\n",
    "            nn.BatchNorm2d(128),\n",
    "            nn.ReLU(inplace=True),\n",
    "            nn.MaxPool2d(kernel_size=2, stride=2),\n",
    "\n",
    "            nn.Conv2d(128, 256, kernel_size=3, padding=1),\n",
    "            nn.BatchNorm2d(256),\n",
    "            nn.ReLU(inplace=True),\n",
    "            nn.Conv2d(256, 256, kernel_size=3, padding=1),\n",
    "            nn.BatchNorm2d(256),\n",
    "            nn.ReLU(inplace=True),\n",
    "            nn.MaxPool2d(kernel_size=2, stride=2),\n",
    "\n",
    "            nn.Conv2d(256, 512, kernel_size=3, padding=1),\n",
    "            nn.BatchNorm2d(512),\n",
    "            nn.ReLU(inplace=True),\n",
    "            nn.Conv2d(512, 512, kernel_size=3, padding=1),\n",
    "            nn.BatchNorm2d(512),\n",
    "            nn.ReLU(inplace=True),\n",
    "            nn.MaxPool2d(kernel_size=2, stride=2),\n",
    "        )\n",
    "\n",
    "        self.classifier = nn.Sequential(\n",
    "            nn.Flatten(),\n",
    "            nn.Linear(512 * 8 * 8, 1024),\n",
    "            nn.ReLU(inplace=True),\n",
    "            nn.Dropout(0.5),\n",
    "            nn.Linear(1024, 512),\n",
    "            nn.ReLU(inplace=True),\n",
    "            nn.Dropout(0.5),\n",
    "            nn.Linear(512, num_classes)\n",
    "        )\n",
    "\n",
    "    def forward(self, x):\n",
    "        x = self.features(x)\n",
    "        x = self.classifier(x)\n",
    "        return x"
   ]
  },
  {
   "cell_type": "code",
   "execution_count": 9,
   "id": "03ccd5b7",
   "metadata": {},
   "outputs": [],
   "source": [
    "model = Food11VGG(num_classes=11).to(device)\n",
    "loss_fn = nn.CrossEntropyLoss()\n",
    "optimizer = optim.Adam(model.parameters(), lr=1e-3)"
   ]
  },
  {
   "cell_type": "code",
   "execution_count": null,
   "id": "270c83ec",
   "metadata": {},
   "outputs": [],
   "source": [
    "num_epochs = 20\n",
    "\n",
    "for epoch in range(num_epochs):\n",
    "    model.train()\n",
    "    total_loss = 0\n",
    "    correct = 0\n",
    "    total = 0\n",
    "\n",
    "    for images, labels in trian_loader:\n",
    "        images, labels = images.to(device), labels.to(device)\n",
    "\n",
    "        optimizer.zero_grad()\n",
    "        outputs = model(images)\n",
    "        loss = loss_fn(outputs, labels)\n",
    "        loss.backward()\n",
    "        optimizer.step()\n",
    "\n",
    "        total_loss += loss.item()\n",
    "        _, preds = torch.max(outputs, 1)\n",
    "        correct += (preds == labels).sum().item()\n",
    "        total += labels.size(0)\n",
    "\n",
    "    train_acc = correct / total\n",
    "    print(f\"Epoch {epoch+1}/{num_epochs}, Loss: {total_loss:.4f}, Train Acc: {train_acc:.4f}\")\n",
    "\n",
    "    # 验证\n",
    "    model.eval()\n",
    "    correct = 0\n",
    "    total = 0\n",
    "    with torch.no_grad():\n",
    "        for images, labels in val_loader:\n",
    "            images, labels = images.to(device), labels.to(device)\n",
    "            outputs = model(images)\n",
    "            _, preds = torch.max(outputs, 1)\n",
    "            correct += (preds == labels).sum().item()\n",
    "            total += labels.size(0)\n",
    "\n",
    "    val_acc = correct / total\n",
    "    print(f\"Validation Acc: {val_acc:.4f}\")\n"
   ]
  },
  {
   "cell_type": "code",
   "execution_count": null,
   "id": "4802ecfb",
   "metadata": {},
   "outputs": [],
   "source": []
  }
 ],
 "metadata": {
  "kernelspec": {
   "display_name": "pytorch_gpu",
   "language": "python",
   "name": "python3"
  },
  "language_info": {
   "codemirror_mode": {
    "name": "ipython",
    "version": 3
   },
   "file_extension": ".py",
   "mimetype": "text/x-python",
   "name": "python",
   "nbconvert_exporter": "python",
   "pygments_lexer": "ipython3",
   "version": "3.10.16"
  }
 },
 "nbformat": 4,
 "nbformat_minor": 5
}
